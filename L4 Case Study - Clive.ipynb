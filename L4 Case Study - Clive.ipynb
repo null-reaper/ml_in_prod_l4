{
 "cells": [
  {
   "cell_type": "markdown",
   "metadata": {},
   "source": [
    "## Preprocessing"
   ]
  },
  {
   "cell_type": "code",
   "execution_count": 1,
   "metadata": {},
   "outputs": [],
   "source": [
    "from sklearn.model_selection import train_test_split\n",
    "from sklearn.metrics import accuracy_score, confusion_matrix, classification_report, fbeta_score, roc_curve, roc_auc_score\n",
    "from sklearn.utils import resample\n",
    "from sklearn.neural_network import MLPClassifier\n",
    "\n",
    "import pandas as pd\n",
    "import numpy as np\n",
    "import matplotlib.pyplot as plt"
   ]
  },
  {
   "cell_type": "code",
   "execution_count": 2,
   "metadata": {},
   "outputs": [],
   "source": [
    "df_credit = pd.read_csv('german_credit_data.csv', index_col=0)"
   ]
  },
  {
   "cell_type": "code",
   "execution_count": 3,
   "metadata": {},
   "outputs": [
    {
     "data": {
      "text/html": [
       "<div>\n",
       "<style scoped>\n",
       "    .dataframe tbody tr th:only-of-type {\n",
       "        vertical-align: middle;\n",
       "    }\n",
       "\n",
       "    .dataframe tbody tr th {\n",
       "        vertical-align: top;\n",
       "    }\n",
       "\n",
       "    .dataframe thead th {\n",
       "        text-align: right;\n",
       "    }\n",
       "</style>\n",
       "<table border=\"1\" class=\"dataframe\">\n",
       "  <thead>\n",
       "    <tr style=\"text-align: right;\">\n",
       "      <th></th>\n",
       "      <th>Age</th>\n",
       "      <th>Sex</th>\n",
       "      <th>Job</th>\n",
       "      <th>Housing</th>\n",
       "      <th>Saving accounts</th>\n",
       "      <th>Checking account</th>\n",
       "      <th>Credit amount</th>\n",
       "      <th>Duration</th>\n",
       "      <th>Purpose</th>\n",
       "      <th>Risk</th>\n",
       "    </tr>\n",
       "  </thead>\n",
       "  <tbody>\n",
       "    <tr>\n",
       "      <th>0</th>\n",
       "      <td>67</td>\n",
       "      <td>male</td>\n",
       "      <td>2</td>\n",
       "      <td>own</td>\n",
       "      <td>NaN</td>\n",
       "      <td>little</td>\n",
       "      <td>1169</td>\n",
       "      <td>6</td>\n",
       "      <td>radio/TV</td>\n",
       "      <td>good</td>\n",
       "    </tr>\n",
       "    <tr>\n",
       "      <th>1</th>\n",
       "      <td>22</td>\n",
       "      <td>female</td>\n",
       "      <td>2</td>\n",
       "      <td>own</td>\n",
       "      <td>little</td>\n",
       "      <td>moderate</td>\n",
       "      <td>5951</td>\n",
       "      <td>48</td>\n",
       "      <td>radio/TV</td>\n",
       "      <td>bad</td>\n",
       "    </tr>\n",
       "    <tr>\n",
       "      <th>2</th>\n",
       "      <td>49</td>\n",
       "      <td>male</td>\n",
       "      <td>1</td>\n",
       "      <td>own</td>\n",
       "      <td>little</td>\n",
       "      <td>NaN</td>\n",
       "      <td>2096</td>\n",
       "      <td>12</td>\n",
       "      <td>education</td>\n",
       "      <td>good</td>\n",
       "    </tr>\n",
       "    <tr>\n",
       "      <th>3</th>\n",
       "      <td>45</td>\n",
       "      <td>male</td>\n",
       "      <td>2</td>\n",
       "      <td>free</td>\n",
       "      <td>little</td>\n",
       "      <td>little</td>\n",
       "      <td>7882</td>\n",
       "      <td>42</td>\n",
       "      <td>furniture/equipment</td>\n",
       "      <td>good</td>\n",
       "    </tr>\n",
       "    <tr>\n",
       "      <th>4</th>\n",
       "      <td>53</td>\n",
       "      <td>male</td>\n",
       "      <td>2</td>\n",
       "      <td>free</td>\n",
       "      <td>little</td>\n",
       "      <td>little</td>\n",
       "      <td>4870</td>\n",
       "      <td>24</td>\n",
       "      <td>car</td>\n",
       "      <td>bad</td>\n",
       "    </tr>\n",
       "  </tbody>\n",
       "</table>\n",
       "</div>"
      ],
      "text/plain": [
       "   Age     Sex  Job Housing Saving accounts Checking account  Credit amount  \\\n",
       "0   67    male    2     own             NaN           little           1169   \n",
       "1   22  female    2     own          little         moderate           5951   \n",
       "2   49    male    1     own          little              NaN           2096   \n",
       "3   45    male    2    free          little           little           7882   \n",
       "4   53    male    2    free          little           little           4870   \n",
       "\n",
       "   Duration              Purpose  Risk  \n",
       "0         6             radio/TV  good  \n",
       "1        48             radio/TV   bad  \n",
       "2        12            education  good  \n",
       "3        42  furniture/equipment  good  \n",
       "4        24                  car   bad  "
      ]
     },
     "execution_count": 3,
     "metadata": {},
     "output_type": "execute_result"
    }
   ],
   "source": [
    "df_credit.head()"
   ]
  },
  {
   "cell_type": "code",
   "execution_count": 4,
   "metadata": {},
   "outputs": [],
   "source": [
    "df_good = df_credit.loc[df_credit[\"Risk\"] == 'good']['Age'].values.tolist()\n",
    "df_bad = df_credit.loc[df_credit[\"Risk\"] == 'bad']['Age'].values.tolist()\n",
    "df_age = df_credit['Age'].values.tolist()\n",
    "\n",
    "df_good = df_credit[df_credit[\"Risk\"] == 'good']\n",
    "df_bad = df_credit[df_credit[\"Risk\"] == 'bad']\n",
    "\n",
    "interval = (18, 25, 35, 60, 120)\n",
    "cats = ['Student', 'Young', 'Adult', 'Senior']\n",
    "\n",
    "df_credit[\"Age_cat\"] = pd.cut(df_credit.Age, interval, labels=cats)\n",
    "\n",
    "df_good = df_credit[df_credit[\"Risk\"] == 'good']\n",
    "df_bad = df_credit[df_credit[\"Risk\"] == 'bad']\n"
   ]
  },
  {
   "cell_type": "code",
   "execution_count": 5,
   "metadata": {},
   "outputs": [
    {
     "data": {
      "text/plain": [
       "Young      398\n",
       "Adult      367\n",
       "Student    190\n",
       "Senior      45\n",
       "Name: Age_cat, dtype: int64"
      ]
     },
     "execution_count": 5,
     "metadata": {},
     "output_type": "execute_result"
    }
   ],
   "source": [
    "df_credit['Age_cat'].value_counts()"
   ]
  },
  {
   "cell_type": "code",
   "execution_count": 6,
   "metadata": {},
   "outputs": [],
   "source": [
    "df_credit['Saving accounts'] = df_credit['Saving accounts'].fillna('no_inf')\n",
    "df_credit['Checking account'] = df_credit['Checking account'].fillna('no_inf')\n",
    "\n",
    "#Purpose to Dummies Variable\n",
    "df_credit = df_credit.merge(pd.get_dummies(df_credit.Purpose, drop_first=True, prefix='Purpose'), left_index=True, right_index=True)\n",
    "#Sex feature in dummies\n",
    "df_credit = df_credit.merge(pd.get_dummies(df_credit.Sex, drop_first=True, prefix='Sex'), left_index=True, right_index=True)\n",
    "# Housing get dummies\n",
    "df_credit = df_credit.merge(pd.get_dummies(df_credit.Housing, drop_first=True, prefix='Housing'), left_index=True, right_index=True)\n",
    "# Housing get Saving Accounts\n",
    "df_credit = df_credit.merge(pd.get_dummies(df_credit[\"Saving accounts\"], drop_first=True, prefix='Savings'), left_index=True, right_index=True)\n",
    "# Housing get Risk\n",
    "df_credit = df_credit.merge(pd.get_dummies(df_credit.Risk, prefix='Risk'), left_index=True, right_index=True)\n",
    "# Housing get Checking Account\n",
    "df_credit = df_credit.merge(pd.get_dummies(df_credit[\"Checking account\"], drop_first=True, prefix='Check'), left_index=True, right_index=True)\n",
    "# Housing get Age categorical\n",
    "df_credit = df_credit.merge(pd.get_dummies(df_credit[\"Age_cat\"], drop_first=True, prefix='Age_cat'), left_index=True, right_index=True)"
   ]
  },
  {
   "cell_type": "code",
   "execution_count": 7,
   "metadata": {},
   "outputs": [],
   "source": [
    "#Excluding the missing columns\n",
    "del df_credit[\"Saving accounts\"]\n",
    "del df_credit[\"Checking account\"]\n",
    "del df_credit[\"Purpose\"]\n",
    "del df_credit[\"Sex\"]\n",
    "del df_credit[\"Housing\"]\n",
    "del df_credit[\"Age_cat\"]\n",
    "del df_credit[\"Age\"]\n",
    "del df_credit[\"Risk\"]\n",
    "del df_credit['Risk_bad']"
   ]
  },
  {
   "cell_type": "code",
   "execution_count": 8,
   "metadata": {},
   "outputs": [],
   "source": [
    "df_credit['Credit amount'] = np.log(df_credit['Credit amount'])"
   ]
  },
  {
   "cell_type": "code",
   "execution_count": 9,
   "metadata": {},
   "outputs": [],
   "source": [
    "#Creating the X and y variables\n",
    "X = df_credit.drop('Risk_good', 1).values\n",
    "y = df_credit[\"Risk_good\"].values\n",
    "\n",
    "# Spliting X and y into train and test version\n",
    "X_train, X_test, y_train, y_test = train_test_split(X, y, test_size = 0.25, random_state=42)"
   ]
  },
  {
   "cell_type": "markdown",
   "metadata": {},
   "source": [
    "## Task 1: Train Credit Scoring Model"
   ]
  },
  {
   "cell_type": "code",
   "execution_count": 10,
   "metadata": {},
   "outputs": [],
   "source": [
    "class Classifier:\n",
    "    def __init__(self, alpha=5e-6, layers=(100, 100), iters=860):\n",
    "        self.clf = MLPClassifier(solver='lbfgs', alpha=alpha, hidden_layer_sizes=layers, random_state=1, max_iter=iters)\n",
    "        self.acc = None\n",
    "        self.confusion = None\n",
    "        self.positives_rate = None\n",
    "        self.FPR = None\n",
    "        self.FNR = None\n",
    "\n",
    "    def train(self, X_train, y_train):\n",
    "        self.clf.fit(X_train, y_train)\n",
    "        \n",
    "    def test(self, X_test, y_test):\n",
    "        y_pred = self.clf.predict(X_test)\n",
    "        \n",
    "        self.acc = accuracy_score(y_test,y_pred)\n",
    "        self.confusion = confusion_matrix(y_test, y_pred)\n",
    "        self.positives_rate = (self.confusion[0][1] + self.confusion[1][1]) / len(y_pred)\n",
    "        self.FPR = self.confusion[0][1] / len(y_pred)\n",
    "        self.FNR = self.confusion[1][0] / len(y_pred)        \n",
    "        \n",
    "    def plot_roc(self, X_test, y_test):\n",
    "        y_pred = self.clf.predict(X_test)\n",
    "        y_pred_prob = self.clf.predict_proba(X_test)[:,1]\n",
    "        \n",
    "        fpr, tpr, thresholds = roc_curve(y_test, y_pred_prob)\n",
    "        \n",
    "        plt.plot([0, 1], [0, 1], 'k--')\n",
    "        plt.plot(fpr, tpr)\n",
    "        plt.xlabel('False Positive Rate')\n",
    "        plt.ylabel('True Positive Rate')\n",
    "        plt.title('ROC Curve')\n",
    "        plt.show()\n",
    "        \n",
    "        \n",
    "        print('ROC_AUC', roc_auc_score(y_test,y_pred))\n",
    "\n",
    "        \n",
    "    def stats(self):\n",
    "        print('Accuracy', self.acc)\n",
    "        print('Positives Rate', self.positives_rate)\n",
    "        print('FPR', self.FPR)\n",
    "        print('FNR', self.FNR)\n",
    "        print()\n",
    "        \n",
    "    def print_confusion(self):\n",
    "        print('Confusion Matrix -->\\n')\n",
    "        print(self.confusion)\n",
    "        print()\n",
    "        \n",
    "    def print_report(self, X_test, y_test):\n",
    "        y_pred = self.clf.predict(X_test)\n",
    "        report = classification_report(y_test, y_pred)\n",
    "\n",
    "        print('Precision/Recall Report -->\\n')\n",
    "        print(report)\n",
    "        print()\n"
   ]
  },
  {
   "cell_type": "code",
   "execution_count": 11,
   "metadata": {},
   "outputs": [
    {
     "name": "stderr",
     "output_type": "stream",
     "text": [
      "C:\\Users\\Null\\anaconda3\\lib\\site-packages\\sklearn\\neural_network\\_multilayer_perceptron.py:471: ConvergenceWarning: lbfgs failed to converge (status=1):\n",
      "STOP: TOTAL NO. of ITERATIONS REACHED LIMIT.\n",
      "\n",
      "Increase the number of iterations (max_iter) or scale the data as shown in:\n",
      "    https://scikit-learn.org/stable/modules/preprocessing.html\n",
      "  self.n_iter_ = _check_optimize_result(\"lbfgs\", opt_res, self.max_iter)\n"
     ]
    }
   ],
   "source": [
    "clf = Classifier(alpha=2e-6, layers=100, iters=300)\n",
    "clf.train(X_train, y_train)\n",
    "clf.test(X_test, y_test)"
   ]
  },
  {
   "cell_type": "code",
   "execution_count": 12,
   "metadata": {
    "scrolled": true
   },
   "outputs": [
    {
     "name": "stdout",
     "output_type": "stream",
     "text": [
      "Accuracy 0.744\n",
      "Positives Rate 0.776\n",
      "FPR 0.16\n",
      "FNR 0.096\n",
      "\n"
     ]
    }
   ],
   "source": [
    "acc_orig = clf.acc\n",
    "positives_orig = clf.positives_rate\n",
    "FPR_orig = clf.FPR\n",
    "FNR_orig = clf.FNR\n",
    "clf.stats()"
   ]
  },
  {
   "cell_type": "code",
   "execution_count": 13,
   "metadata": {},
   "outputs": [
    {
     "name": "stdout",
     "output_type": "stream",
     "text": [
      "Confusion Matrix -->\n",
      "\n",
      "[[ 32  40]\n",
      " [ 24 154]]\n",
      "\n",
      "Precision/Recall Report -->\n",
      "\n",
      "              precision    recall  f1-score   support\n",
      "\n",
      "           0       0.57      0.44      0.50        72\n",
      "           1       0.79      0.87      0.83       178\n",
      "\n",
      "    accuracy                           0.74       250\n",
      "   macro avg       0.68      0.65      0.66       250\n",
      "weighted avg       0.73      0.74      0.73       250\n",
      "\n",
      "\n"
     ]
    }
   ],
   "source": [
    "clf.print_confusion()\n",
    "clf.print_report(X_test, y_test)"
   ]
  },
  {
   "cell_type": "code",
   "execution_count": 14,
   "metadata": {
    "scrolled": true
   },
   "outputs": [
    {
     "data": {
      "image/png": "[encoded data removed]",
      "text/plain": [
       "<Figure size 432x288 with 1 Axes>"
      ]
     },
     "metadata": {
      "needs_background": "light"
     },
     "output_type": "display_data"
    },
    {
     "name": "stdout",
     "output_type": "stream",
     "text": [
      "ROC_AUC 0.6548064918851436\n"
     ]
    }
   ],
   "source": [
    "clf.plot_roc(X_test, y_test)"
   ]
  },
  {
   "cell_type": "markdown",
   "metadata": {},
   "source": [
    "## Task 2: Measuring Fairness"
   ]
  },
  {
   "cell_type": "code",
   "execution_count": 15,
   "metadata": {},
   "outputs": [
    {
     "data": {
      "text/plain": [
       "Index(['Job', 'Credit amount', 'Duration', 'Purpose_car',\n",
       "       'Purpose_domestic appliances', 'Purpose_education',\n",
       "       'Purpose_furniture/equipment', 'Purpose_radio/TV', 'Purpose_repairs',\n",
       "       'Purpose_vacation/others', 'Sex_male', 'Housing_own', 'Housing_rent',\n",
       "       'Savings_moderate', 'Savings_no_inf', 'Savings_quite rich',\n",
       "       'Savings_rich', 'Risk_good', 'Check_moderate', 'Check_no_inf',\n",
       "       'Check_rich', 'Age_cat_Young', 'Age_cat_Adult', 'Age_cat_Senior'],\n",
       "      dtype='object')"
      ]
     },
     "execution_count": 15,
     "metadata": {},
     "output_type": "execute_result"
    }
   ],
   "source": [
    "df_credit.keys()"
   ]
  },
  {
   "cell_type": "markdown",
   "metadata": {},
   "source": [
    "'Age' and 'Gender' are the two protected attributes. In the dataframe, age is given as one-hot encoded categorical attributes 'Age_cat_Young', 'Age_cat_Adult' and 'Age_cat_Senior'. Similarly, gender is given as a binary attribute 'Sex_male'."
   ]
  },
  {
   "cell_type": "code",
   "execution_count": 16,
   "metadata": {},
   "outputs": [
    {
     "data": {
      "text/html": [
       "<div>\n",
       "<style scoped>\n",
       "    .dataframe tbody tr th:only-of-type {\n",
       "        vertical-align: middle;\n",
       "    }\n",
       "\n",
       "    .dataframe tbody tr th {\n",
       "        vertical-align: top;\n",
       "    }\n",
       "\n",
       "    .dataframe thead th {\n",
       "        text-align: right;\n",
       "    }\n",
       "</style>\n",
       "<table border=\"1\" class=\"dataframe\">\n",
       "  <thead>\n",
       "    <tr style=\"text-align: right;\">\n",
       "      <th></th>\n",
       "      <th>Job</th>\n",
       "      <th>Credit amount</th>\n",
       "      <th>Duration</th>\n",
       "      <th>Purpose_car</th>\n",
       "      <th>Purpose_domestic appliances</th>\n",
       "      <th>Purpose_education</th>\n",
       "      <th>Purpose_furniture/equipment</th>\n",
       "      <th>Purpose_radio/TV</th>\n",
       "      <th>Purpose_repairs</th>\n",
       "      <th>Purpose_vacation/others</th>\n",
       "      <th>...</th>\n",
       "      <th>Savings_no_inf</th>\n",
       "      <th>Savings_quite rich</th>\n",
       "      <th>Savings_rich</th>\n",
       "      <th>Risk_good</th>\n",
       "      <th>Check_moderate</th>\n",
       "      <th>Check_no_inf</th>\n",
       "      <th>Check_rich</th>\n",
       "      <th>Age_cat_Young</th>\n",
       "      <th>Age_cat_Adult</th>\n",
       "      <th>Age_cat_Senior</th>\n",
       "    </tr>\n",
       "  </thead>\n",
       "  <tbody>\n",
       "    <tr>\n",
       "      <th>0</th>\n",
       "      <td>2</td>\n",
       "      <td>7.063904</td>\n",
       "      <td>6</td>\n",
       "      <td>0</td>\n",
       "      <td>0</td>\n",
       "      <td>0</td>\n",
       "      <td>0</td>\n",
       "      <td>1</td>\n",
       "      <td>0</td>\n",
       "      <td>0</td>\n",
       "      <td>...</td>\n",
       "      <td>1</td>\n",
       "      <td>0</td>\n",
       "      <td>0</td>\n",
       "      <td>1</td>\n",
       "      <td>0</td>\n",
       "      <td>0</td>\n",
       "      <td>0</td>\n",
       "      <td>0</td>\n",
       "      <td>0</td>\n",
       "      <td>1</td>\n",
       "    </tr>\n",
       "    <tr>\n",
       "      <th>1</th>\n",
       "      <td>2</td>\n",
       "      <td>8.691315</td>\n",
       "      <td>48</td>\n",
       "      <td>0</td>\n",
       "      <td>0</td>\n",
       "      <td>0</td>\n",
       "      <td>0</td>\n",
       "      <td>1</td>\n",
       "      <td>0</td>\n",
       "      <td>0</td>\n",
       "      <td>...</td>\n",
       "      <td>0</td>\n",
       "      <td>0</td>\n",
       "      <td>0</td>\n",
       "      <td>0</td>\n",
       "      <td>1</td>\n",
       "      <td>0</td>\n",
       "      <td>0</td>\n",
       "      <td>0</td>\n",
       "      <td>0</td>\n",
       "      <td>0</td>\n",
       "    </tr>\n",
       "    <tr>\n",
       "      <th>2</th>\n",
       "      <td>1</td>\n",
       "      <td>7.647786</td>\n",
       "      <td>12</td>\n",
       "      <td>0</td>\n",
       "      <td>0</td>\n",
       "      <td>1</td>\n",
       "      <td>0</td>\n",
       "      <td>0</td>\n",
       "      <td>0</td>\n",
       "      <td>0</td>\n",
       "      <td>...</td>\n",
       "      <td>0</td>\n",
       "      <td>0</td>\n",
       "      <td>0</td>\n",
       "      <td>1</td>\n",
       "      <td>0</td>\n",
       "      <td>1</td>\n",
       "      <td>0</td>\n",
       "      <td>0</td>\n",
       "      <td>1</td>\n",
       "      <td>0</td>\n",
       "    </tr>\n",
       "    <tr>\n",
       "      <th>3</th>\n",
       "      <td>2</td>\n",
       "      <td>8.972337</td>\n",
       "      <td>42</td>\n",
       "      <td>0</td>\n",
       "      <td>0</td>\n",
       "      <td>0</td>\n",
       "      <td>1</td>\n",
       "      <td>0</td>\n",
       "      <td>0</td>\n",
       "      <td>0</td>\n",
       "      <td>...</td>\n",
       "      <td>0</td>\n",
       "      <td>0</td>\n",
       "      <td>0</td>\n",
       "      <td>1</td>\n",
       "      <td>0</td>\n",
       "      <td>0</td>\n",
       "      <td>0</td>\n",
       "      <td>0</td>\n",
       "      <td>1</td>\n",
       "      <td>0</td>\n",
       "    </tr>\n",
       "    <tr>\n",
       "      <th>4</th>\n",
       "      <td>2</td>\n",
       "      <td>8.490849</td>\n",
       "      <td>24</td>\n",
       "      <td>1</td>\n",
       "      <td>0</td>\n",
       "      <td>0</td>\n",
       "      <td>0</td>\n",
       "      <td>0</td>\n",
       "      <td>0</td>\n",
       "      <td>0</td>\n",
       "      <td>...</td>\n",
       "      <td>0</td>\n",
       "      <td>0</td>\n",
       "      <td>0</td>\n",
       "      <td>0</td>\n",
       "      <td>0</td>\n",
       "      <td>0</td>\n",
       "      <td>0</td>\n",
       "      <td>0</td>\n",
       "      <td>1</td>\n",
       "      <td>0</td>\n",
       "    </tr>\n",
       "  </tbody>\n",
       "</table>\n",
       "<p>5 rows × 24 columns</p>\n",
       "</div>"
      ],
      "text/plain": [
       "   Job  Credit amount  Duration  Purpose_car  Purpose_domestic appliances  \\\n",
       "0    2       7.063904         6            0                            0   \n",
       "1    2       8.691315        48            0                            0   \n",
       "2    1       7.647786        12            0                            0   \n",
       "3    2       8.972337        42            0                            0   \n",
       "4    2       8.490849        24            1                            0   \n",
       "\n",
       "   Purpose_education  Purpose_furniture/equipment  Purpose_radio/TV  \\\n",
       "0                  0                            0                 1   \n",
       "1                  0                            0                 1   \n",
       "2                  1                            0                 0   \n",
       "3                  0                            1                 0   \n",
       "4                  0                            0                 0   \n",
       "\n",
       "   Purpose_repairs  Purpose_vacation/others  ...  Savings_no_inf  \\\n",
       "0                0                        0  ...               1   \n",
       "1                0                        0  ...               0   \n",
       "2                0                        0  ...               0   \n",
       "3                0                        0  ...               0   \n",
       "4                0                        0  ...               0   \n",
       "\n",
       "   Savings_quite rich  Savings_rich  Risk_good  Check_moderate  Check_no_inf  \\\n",
       "0                   0             0          1               0             0   \n",
       "1                   0             0          0               1             0   \n",
       "2                   0             0          1               0             1   \n",
       "3                   0             0          1               0             0   \n",
       "4                   0             0          0               0             0   \n",
       "\n",
       "   Check_rich  Age_cat_Young  Age_cat_Adult  Age_cat_Senior  \n",
       "0           0              0              0               1  \n",
       "1           0              0              0               0  \n",
       "2           0              0              1               0  \n",
       "3           0              0              1               0  \n",
       "4           0              0              1               0  \n",
       "\n",
       "[5 rows x 24 columns]"
      ]
     },
     "execution_count": 16,
     "metadata": {},
     "output_type": "execute_result"
    }
   ],
   "source": [
    "df_credit.head()"
   ]
  },
  {
   "cell_type": "markdown",
   "metadata": {},
   "source": [
    "### Anti-Classification"
   ]
  },
  {
   "cell_type": "markdown",
   "metadata": {},
   "source": [
    "To test for anti-classification, we shall convert each entry in the validation set to have the same attribute (such as setting gender='male' for everyone). Once we do this, we report the acuracy obtained for each case. For simplicity, only one protected attribute will be modified at a time (either gender or age, but not both)."
   ]
  },
  {
   "cell_type": "markdown",
   "metadata": {},
   "source": [
    "#### Based on Age"
   ]
  },
  {
   "cell_type": "markdown",
   "metadata": {},
   "source": [
    "Setting everyone's age category to 'student'"
   ]
  },
  {
   "cell_type": "code",
   "execution_count": 17,
   "metadata": {},
   "outputs": [],
   "source": [
    "X_test_student = []\n",
    "for entry in X_test:\n",
    "    X_test_student.append(np.concatenate((entry[:-3], [0, 0, 0])))\n",
    "X_test_student = np.array(X_test_student)"
   ]
  },
  {
   "cell_type": "code",
   "execution_count": 18,
   "metadata": {},
   "outputs": [
    {
     "name": "stdout",
     "output_type": "stream",
     "text": [
      "Accuracy 0.684\n",
      "Positives Rate 0.628\n",
      "FPR 0.116\n",
      "FNR 0.2\n",
      "\n"
     ]
    }
   ],
   "source": [
    "clf.test(X_test_student, y_test)\n",
    "acc_student = clf.acc\n",
    "clf.stats()"
   ]
  },
  {
   "cell_type": "markdown",
   "metadata": {},
   "source": [
    "Setting everyone's age category to 'young'"
   ]
  },
  {
   "cell_type": "code",
   "execution_count": 19,
   "metadata": {},
   "outputs": [],
   "source": [
    "X_test_young = []\n",
    "for entry in X_test:\n",
    "    X_test_young.append(np.concatenate((entry[:-3], [1, 0, 0])))\n",
    "X_test_young = np.array(X_test_young)"
   ]
  },
  {
   "cell_type": "code",
   "execution_count": 20,
   "metadata": {},
   "outputs": [
    {
     "name": "stdout",
     "output_type": "stream",
     "text": [
      "Accuracy 0.736\n",
      "Positives Rate 0.76\n",
      "FPR 0.156\n",
      "FNR 0.108\n",
      "\n"
     ]
    }
   ],
   "source": [
    "clf.test(X_test_young, y_test)\n",
    "acc_young = clf.acc\n",
    "clf.stats()"
   ]
  },
  {
   "cell_type": "markdown",
   "metadata": {},
   "source": [
    "Setting everyone's age category to 'adult'"
   ]
  },
  {
   "cell_type": "code",
   "execution_count": 21,
   "metadata": {},
   "outputs": [],
   "source": [
    "X_test_adult = []\n",
    "for entry in X_test:\n",
    "    X_test_adult.append(np.concatenate((entry[:-3], [0, 1, 0])))\n",
    "X_test_adult = np.array(X_test_adult)"
   ]
  },
  {
   "cell_type": "code",
   "execution_count": 22,
   "metadata": {},
   "outputs": [
    {
     "name": "stdout",
     "output_type": "stream",
     "text": [
      "Accuracy 0.732\n",
      "Positives Rate 0.812\n",
      "FPR 0.184\n",
      "FNR 0.084\n",
      "\n"
     ]
    }
   ],
   "source": [
    "clf.test(X_test_adult, y_test)\n",
    "acc_adult = clf.acc\n",
    "clf.stats()"
   ]
  },
  {
   "cell_type": "markdown",
   "metadata": {},
   "source": [
    "Setting everyone's age category to 'senior'"
   ]
  },
  {
   "cell_type": "code",
   "execution_count": 23,
   "metadata": {},
   "outputs": [],
   "source": [
    "X_test_senior = []\n",
    "for entry in X_test:\n",
    "    X_test_senior.append(np.concatenate((entry[:-3], [0, 0, 1])))\n",
    "X_test_senior = np.array(X_test_senior)"
   ]
  },
  {
   "cell_type": "code",
   "execution_count": 24,
   "metadata": {},
   "outputs": [
    {
     "name": "stdout",
     "output_type": "stream",
     "text": [
      "Accuracy 0.708\n",
      "Positives Rate 0.972\n",
      "FPR 0.276\n",
      "FNR 0.016\n",
      "\n"
     ]
    }
   ],
   "source": [
    "clf.test(X_test_senior, y_test)\n",
    "acc_senior = clf.acc\n",
    "clf.stats()"
   ]
  },
  {
   "cell_type": "markdown",
   "metadata": {},
   "source": [
    "#### Based on Gender"
   ]
  },
  {
   "cell_type": "markdown",
   "metadata": {},
   "source": [
    "Setting everyone's gender to 'male'"
   ]
  },
  {
   "cell_type": "code",
   "execution_count": 25,
   "metadata": {},
   "outputs": [],
   "source": [
    "X_test_male = []\n",
    "for entry in X_test:\n",
    "    X_test_male.append(np.concatenate((entry[:10], [1], entry[11:])))\n",
    "X_test_male = np.array(X_test_male)"
   ]
  },
  {
   "cell_type": "code",
   "execution_count": 26,
   "metadata": {},
   "outputs": [
    {
     "name": "stdout",
     "output_type": "stream",
     "text": [
      "Accuracy 0.748\n",
      "Positives Rate 0.78\n",
      "FPR 0.16\n",
      "FNR 0.092\n",
      "\n"
     ]
    }
   ],
   "source": [
    "clf.test(X_test_male, y_test)\n",
    "acc_male = clf.acc\n",
    "clf.stats()"
   ]
  },
  {
   "cell_type": "markdown",
   "metadata": {},
   "source": [
    "Setting everyone's gender to 'female'"
   ]
  },
  {
   "cell_type": "code",
   "execution_count": 27,
   "metadata": {},
   "outputs": [],
   "source": [
    "X_test_female = []\n",
    "for entry in X_test:\n",
    "    X_test_female.append(np.concatenate((entry[:10], [0], entry[11:])))\n",
    "X_test_female = np.array(X_test_female)"
   ]
  },
  {
   "cell_type": "code",
   "execution_count": 28,
   "metadata": {},
   "outputs": [
    {
     "name": "stdout",
     "output_type": "stream",
     "text": [
      "Accuracy 0.732\n",
      "Positives Rate 0.756\n",
      "FPR 0.156\n",
      "FNR 0.112\n",
      "\n"
     ]
    }
   ],
   "source": [
    "clf.test(X_test_female, y_test)\n",
    "acc_female = clf.acc\n",
    "clf.stats()"
   ]
  },
  {
   "cell_type": "markdown",
   "metadata": {},
   "source": [
    "#### Summary"
   ]
  },
  {
   "cell_type": "code",
   "execution_count": 29,
   "metadata": {
    "scrolled": false
   },
   "outputs": [
    {
     "data": {
      "text/html": [
       "<style  type=\"text/css\" >\n",
       "#T_a4656d76_a88b_11eb_85d5_2816a8727fd4row2_col0{\n",
       "            background-color:  grey;\n",
       "             color:  white;\n",
       "        }</style><table id=\"T_a4656d76_a88b_11eb_85d5_2816a8727fd4\" ><thead>    <tr>        <th class=\"blank level0\" ></th>        <th class=\"col_heading level0 col0\" >Accuracy</th>    </tr></thead><tbody>\n",
       "                <tr>\n",
       "                        <th id=\"T_a4656d76_a88b_11eb_85d5_2816a8727fd4level0_row0\" class=\"row_heading level0 row0\" >Female</th>\n",
       "                        <td id=\"T_a4656d76_a88b_11eb_85d5_2816a8727fd4row0_col0\" class=\"data row0 col0\" >0.732000</td>\n",
       "            </tr>\n",
       "            <tr>\n",
       "                        <th id=\"T_a4656d76_a88b_11eb_85d5_2816a8727fd4level0_row1\" class=\"row_heading level0 row1\" >Male</th>\n",
       "                        <td id=\"T_a4656d76_a88b_11eb_85d5_2816a8727fd4row1_col0\" class=\"data row1 col0\" >0.748000</td>\n",
       "            </tr>\n",
       "            <tr>\n",
       "                        <th id=\"T_a4656d76_a88b_11eb_85d5_2816a8727fd4level0_row2\" class=\"row_heading level0 row2\" >Original</th>\n",
       "                        <td id=\"T_a4656d76_a88b_11eb_85d5_2816a8727fd4row2_col0\" class=\"data row2 col0\" >0.744000</td>\n",
       "            </tr>\n",
       "            <tr>\n",
       "                        <th id=\"T_a4656d76_a88b_11eb_85d5_2816a8727fd4level0_row3\" class=\"row_heading level0 row3\" >Student</th>\n",
       "                        <td id=\"T_a4656d76_a88b_11eb_85d5_2816a8727fd4row3_col0\" class=\"data row3 col0\" >0.684000</td>\n",
       "            </tr>\n",
       "            <tr>\n",
       "                        <th id=\"T_a4656d76_a88b_11eb_85d5_2816a8727fd4level0_row4\" class=\"row_heading level0 row4\" >Young</th>\n",
       "                        <td id=\"T_a4656d76_a88b_11eb_85d5_2816a8727fd4row4_col0\" class=\"data row4 col0\" >0.736000</td>\n",
       "            </tr>\n",
       "            <tr>\n",
       "                        <th id=\"T_a4656d76_a88b_11eb_85d5_2816a8727fd4level0_row5\" class=\"row_heading level0 row5\" >Adult</th>\n",
       "                        <td id=\"T_a4656d76_a88b_11eb_85d5_2816a8727fd4row5_col0\" class=\"data row5 col0\" >0.732000</td>\n",
       "            </tr>\n",
       "            <tr>\n",
       "                        <th id=\"T_a4656d76_a88b_11eb_85d5_2816a8727fd4level0_row6\" class=\"row_heading level0 row6\" >Senior</th>\n",
       "                        <td id=\"T_a4656d76_a88b_11eb_85d5_2816a8727fd4row6_col0\" class=\"data row6 col0\" >0.708000</td>\n",
       "            </tr>\n",
       "    </tbody></table>"
      ],
      "text/plain": [
       "<pandas.io.formats.style.Styler at 0x2303ef66a60>"
      ]
     },
     "execution_count": 29,
     "metadata": {},
     "output_type": "execute_result"
    }
   ],
   "source": [
    "df_anti_class = pd.DataFrame(data=[[acc_female], [acc_male], [acc_orig], [acc_student], [acc_young], [acc_adult], [acc_senior]], \n",
    "                            index=['Female', 'Male', 'Original', 'Student', 'Young', 'Adult', 'Senior'], columns=['Accuracy'])\n",
    "\n",
    "df_anti_class.style.applymap(lambda x: 'background-color: grey; color: white' if (x == 0.744) else '')"
   ]
  },
  {
   "cell_type": "markdown",
   "metadata": {},
   "source": [
    "#### For Age -->\n",
    "\n",
    "    When all participants are set to the same age group, the accuracies achieved by the model are 68.4%, 73.6%, 73.2%, and \n",
    "    70.8% for 'Student', 'Young', 'Adult' and 'Senior' categories, respectively. As we can see, the model performs \n",
    "    differently depending on the participants age (higher accuracy for 'Young' and 'Adult' categories), which is a \n",
    "    fairness issue.  \n",
    "\n",
    "#### For Gender -->\n",
    "\n",
    "    When everyone's gender is set to 'Male', the model achieves an accuracy of 74.8% while, when set to 'Female', the \n",
    "    accuracy is 73.2%. Though the difference is small (1.6%), this shows that the current model's performance is affected \n",
    "    by the gender of the person. Thus, to be fair, we need to eliminate the gender attribute."
   ]
  },
  {
   "cell_type": "markdown",
   "metadata": {},
   "source": [
    "### Independence"
   ]
  },
  {
   "cell_type": "markdown",
   "metadata": {},
   "source": [
    "To test for independence, we shall split the test set based on both gender or age into their respective categories. Once we do this, we report the rate of positives (fraction of people w/ 'good' credit, i.e. (TP+FP)/total) for each group."
   ]
  },
  {
   "cell_type": "markdown",
   "metadata": {},
   "source": [
    "#### Split on Age & Gender"
   ]
  },
  {
   "cell_type": "code",
   "execution_count": 30,
   "metadata": {},
   "outputs": [],
   "source": [
    "X_test_student_male = []\n",
    "X_test_student_female = []\n",
    "X_test_young_male = []\n",
    "X_test_young_female = []\n",
    "X_test_adult_male = []\n",
    "X_test_adult_female = []\n",
    "X_test_senior_male = []\n",
    "X_test_senior_female = []\n",
    "\n",
    "y_test_student_male = []\n",
    "y_test_student_female = []\n",
    "y_test_young_male = []\n",
    "y_test_young_female = []\n",
    "y_test_adult_male = []\n",
    "y_test_adult_female = []\n",
    "y_test_senior_male = []\n",
    "y_test_senior_female = []\n",
    "\n",
    "X_test_student = []\n",
    "X_test_young = []\n",
    "X_test_adult = []\n",
    "X_test_senior = []\n",
    "X_test_male = []\n",
    "X_test_female = []\n",
    "\n",
    "y_test_student = []\n",
    "y_test_young = []\n",
    "y_test_adult = []\n",
    "y_test_senior = []\n",
    "y_test_male = []\n",
    "y_test_female = []\n",
    "\n",
    "for i in range(X_test.shape[0]):\n",
    "    if np.all(X_test[i][-3:] == [0, 0, 0]):\n",
    "        if X_test[i][10] == 1.0:\n",
    "            X_test_student_male.append(X_test[i])\n",
    "            y_test_student_male.append(y_test[i])            \n",
    "        else:\n",
    "            X_test_student_female.append(X_test[i])\n",
    "            y_test_student_female.append(y_test[i])\n",
    "                        \n",
    "            X_test_female.append(X_test[i])\n",
    "            y_test_female.append(y_test[i])\n",
    "            \n",
    "        X_test_student.append(X_test[i])\n",
    "        y_test_student.append(y_test[i])               \n",
    "            \n",
    "    elif np.all(X_test[i][-3:] == [1, 0, 0]):\n",
    "        if X_test[i][10] == 1.0:\n",
    "            X_test_young_male.append(X_test[i])\n",
    "            y_test_young_male.append(y_test[i])\n",
    "            \n",
    "            X_test_male.append(X_test[i])\n",
    "            y_test_male.append(y_test[i])\n",
    "        else:\n",
    "            X_test_young_female.append(X_test[i])\n",
    "            y_test_young_female.append(y_test[i])\n",
    " \n",
    "            X_test_female.append(X_test[i])\n",
    "            y_test_female.append(y_test[i])\n",
    "            \n",
    "        X_test_young.append(X_test[i])\n",
    "        y_test_young.append(y_test[i])               \n",
    "\n",
    "    elif np.all(X_test[i][-3:] == [0, 1, 0]):\n",
    "        if X_test[i][10] == 1.0:\n",
    "            X_test_adult_male.append(X_test[i])\n",
    "            y_test_adult_male.append(y_test[i])\n",
    "            \n",
    "            X_test_male.append(X_test[i])\n",
    "            y_test_male.append(y_test[i])\n",
    "        else:\n",
    "            X_test_adult_female.append(X_test[i])\n",
    "            y_test_adult_female.append(y_test[i])\n",
    "       \n",
    "            X_test_female.append(X_test[i])\n",
    "            y_test_female.append(y_test[i])\n",
    "            \n",
    "        X_test_adult.append(X_test[i])\n",
    "        y_test_adult.append(y_test[i])               \n",
    "\n",
    "    elif np.all(X_test[i][-3:] == [0, 0, 1]):\n",
    "        if X_test[i][10] == 1.0:\n",
    "            X_test_senior_male.append(X_test[i])\n",
    "            y_test_senior_male.append(y_test[i])\n",
    "                        \n",
    "            X_test_male.append(X_test[i])\n",
    "            y_test_male.append(y_test[i])\n",
    "        else:\n",
    "            X_test_senior_female.append(X_test[i])\n",
    "            y_test_senior_female.append(y_test[i])  \n",
    "                   \n",
    "            X_test_female.append(X_test[i])\n",
    "            y_test_female.append(y_test[i])\n",
    "            \n",
    "        X_test_senior.append(X_test[i])\n",
    "        y_test_senior.append(y_test[i])               "
   ]
  },
  {
   "cell_type": "markdown",
   "metadata": {},
   "source": [
    "#### Compute Rate of Positives"
   ]
  },
  {
   "cell_type": "code",
   "execution_count": 31,
   "metadata": {},
   "outputs": [],
   "source": [
    "clf.test(X_test_student_male, y_test_student_male)\n",
    "positives_student_male = clf.positives_rate\n",
    "\n",
    "clf.test(X_test_student_female, y_test_student_female)\n",
    "positives_student_female = clf.positives_rate\n",
    "\n",
    "clf.test(X_test_young_male, y_test_young_male)\n",
    "positives_young_male = clf.positives_rate\n",
    "\n",
    "clf.test(X_test_young_female, y_test_young_female)\n",
    "positives_young_female = clf.positives_rate\n",
    "\n",
    "clf.test(X_test_adult_male, y_test_adult_male)\n",
    "positives_adult_male = clf.positives_rate\n",
    "\n",
    "clf.test(X_test_adult_female, y_test_adult_female)\n",
    "positives_adult_female = clf.positives_rate\n",
    "\n",
    "clf.test(X_test_senior_male, y_test_senior_male)\n",
    "positives_senior_male = clf.positives_rate\n",
    "\n",
    "clf.test(X_test_senior_female, y_test_senior_female)\n",
    "positives_senior_female = clf.positives_rate\n",
    "\n",
    "clf.test(X_test_male, y_test_male)\n",
    "positives_male = clf.positives_rate\n",
    "\n",
    "clf.test(X_test_female, y_test_female)\n",
    "positives_female = clf.positives_rate\n",
    "\n",
    "clf.test(X_test_student, y_test_student)\n",
    "positives_student = clf.positives_rate\n",
    "\n",
    "clf.test(X_test_young, y_test_young)\n",
    "positives_young = clf.positives_rate\n",
    "\n",
    "clf.test(X_test_adult, y_test_adult)\n",
    "positives_adult = clf.positives_rate\n",
    "\n",
    "clf.test(X_test_senior, y_test_senior)\n",
    "positives_senior = clf.positives_rate"
   ]
  },
  {
   "cell_type": "markdown",
   "metadata": {},
   "source": [
    "#### Summary"
   ]
  },
  {
   "cell_type": "code",
   "execution_count": 32,
   "metadata": {
    "scrolled": false
   },
   "outputs": [
    {
     "data": {
      "text/html": [
       "<style  type=\"text/css\" >\n",
       "#T_a72b17cb_a88b_11eb_a39e_2816a8727fd4row0_col0{\n",
       "            background-color:  grey;\n",
       "             color:  white;\n",
       "        }</style><table id=\"T_a72b17cb_a88b_11eb_a39e_2816a8727fd4\" ><thead>    <tr>        <th class=\"blank level0\" ></th>        <th class=\"col_heading level0 col0\" >Original</th>        <th class=\"col_heading level0 col1\" >Student</th>        <th class=\"col_heading level0 col2\" >Young</th>        <th class=\"col_heading level0 col3\" >Adult</th>        <th class=\"col_heading level0 col4\" >Senior</th>    </tr></thead><tbody>\n",
       "                <tr>\n",
       "                        <th id=\"T_a72b17cb_a88b_11eb_a39e_2816a8727fd4level0_row0\" class=\"row_heading level0 row0\" >Original</th>\n",
       "                        <td id=\"T_a72b17cb_a88b_11eb_a39e_2816a8727fd4row0_col0\" class=\"data row0 col0\" >0.776000</td>\n",
       "                        <td id=\"T_a72b17cb_a88b_11eb_a39e_2816a8727fd4row0_col1\" class=\"data row0 col1\" >0.568627</td>\n",
       "                        <td id=\"T_a72b17cb_a88b_11eb_a39e_2816a8727fd4row0_col2\" class=\"data row0 col2\" >0.851064</td>\n",
       "                        <td id=\"T_a72b17cb_a88b_11eb_a39e_2816a8727fd4row0_col3\" class=\"data row0 col3\" >0.804348</td>\n",
       "                        <td id=\"T_a72b17cb_a88b_11eb_a39e_2816a8727fd4row0_col4\" class=\"data row0 col4\" >0.846154</td>\n",
       "            </tr>\n",
       "            <tr>\n",
       "                        <th id=\"T_a72b17cb_a88b_11eb_a39e_2816a8727fd4level0_row1\" class=\"row_heading level0 row1\" >Male</th>\n",
       "                        <td id=\"T_a72b17cb_a88b_11eb_a39e_2816a8727fd4row1_col0\" class=\"data row1 col0\" >0.824675</td>\n",
       "                        <td id=\"T_a72b17cb_a88b_11eb_a39e_2816a8727fd4row1_col1\" class=\"data row1 col1\" >0.521739</td>\n",
       "                        <td id=\"T_a72b17cb_a88b_11eb_a39e_2816a8727fd4row1_col2\" class=\"data row1 col2\" >0.820896</td>\n",
       "                        <td id=\"T_a72b17cb_a88b_11eb_a39e_2816a8727fd4row1_col3\" class=\"data row1 col3\" >0.820513</td>\n",
       "                        <td id=\"T_a72b17cb_a88b_11eb_a39e_2816a8727fd4row1_col4\" class=\"data row1 col4\" >0.888889</td>\n",
       "            </tr>\n",
       "            <tr>\n",
       "                        <th id=\"T_a72b17cb_a88b_11eb_a39e_2816a8727fd4level0_row2\" class=\"row_heading level0 row2\" >Female</th>\n",
       "                        <td id=\"T_a72b17cb_a88b_11eb_a39e_2816a8727fd4row2_col0\" class=\"data row2 col0\" >0.753425</td>\n",
       "                        <td id=\"T_a72b17cb_a88b_11eb_a39e_2816a8727fd4row2_col1\" class=\"data row2 col1\" >0.607143</td>\n",
       "                        <td id=\"T_a72b17cb_a88b_11eb_a39e_2816a8727fd4row2_col2\" class=\"data row2 col2\" >0.925926</td>\n",
       "                        <td id=\"T_a72b17cb_a88b_11eb_a39e_2816a8727fd4row2_col3\" class=\"data row2 col3\" >0.714286</td>\n",
       "                        <td id=\"T_a72b17cb_a88b_11eb_a39e_2816a8727fd4row2_col4\" class=\"data row2 col4\" >0.750000</td>\n",
       "            </tr>\n",
       "    </tbody></table>"
      ],
      "text/plain": [
       "<pandas.io.formats.style.Styler at 0x2303f07cd60>"
      ]
     },
     "execution_count": 32,
     "metadata": {},
     "output_type": "execute_result"
    }
   ],
   "source": [
    "df_indep = pd.DataFrame(data=[[positives_orig, positives_student, positives_young, positives_adult, positives_senior],\n",
    "                              [positives_male, positives_student_male, positives_young_male, positives_adult_male, positives_senior_male],\n",
    "                              [positives_female, positives_student_female, positives_young_female, positives_adult_female, positives_senior_female]], \n",
    "                        columns=['Original', 'Student', 'Young', 'Adult', 'Senior'], index=['Original', 'Male', 'Female'])\n",
    "\n",
    "df_indep.style.applymap(lambda x: 'background-color: grey; color: white' if (x == 0.776) else '')"
   ]
  },
  {
   "cell_type": "markdown",
   "metadata": {},
   "source": [
    "#### Discussion\n",
    "\n",
    "##### For Age -->\n",
    "\n",
    "    For either gender, positive rates are highest for 'Young' people followed by 'Senior', 'Adult' and then 'Student', which\n",
    "    has a considerably lower positive rate than the rest.\n",
    "\n",
    "##### For Gender -->\n",
    "\n",
    "    For adults and seniors, males have a higher positive rate than females, while the opposite is true for students and young\n",
    "    people.\n",
    "    \n",
    "In both cases, there are differences in model outputs based on Age and/or Gender, which is a fairness issue."
   ]
  },
  {
   "cell_type": "markdown",
   "metadata": {},
   "source": [
    "### Separation"
   ]
  },
  {
   "cell_type": "markdown",
   "metadata": {},
   "source": [
    "We have already split the test set based on both gender or age into their respective categories Now, we report the number of FPR and FNR for each group."
   ]
  },
  {
   "cell_type": "markdown",
   "metadata": {},
   "source": [
    "#### Compute # of FPR & FNR"
   ]
  },
  {
   "cell_type": "code",
   "execution_count": 33,
   "metadata": {},
   "outputs": [],
   "source": [
    "clf.test(X_test_student_male, y_test_student_male)\n",
    "FPR_student_male = clf.FPR\n",
    "FNR_student_male = clf.FNR\n",
    "\n",
    "clf.test(X_test_student_female, y_test_student_female)\n",
    "FPR_student_female = clf.FPR\n",
    "FNR_student_female = clf.FNR\n",
    "\n",
    "clf.test(X_test_young_male, y_test_young_male)\n",
    "FPR_young_male = clf.FPR\n",
    "FNR_young_male = clf.FNR\n",
    "\n",
    "clf.test(X_test_young_female, y_test_young_female)\n",
    "FPR_young_female = clf.FPR\n",
    "FNR_young_female = clf.FNR\n",
    "\n",
    "clf.test(X_test_adult_male, y_test_adult_male)\n",
    "FPR_adult_male = clf.FPR\n",
    "FNR_adult_male = clf.FNR\n",
    "\n",
    "clf.test(X_test_adult_female, y_test_adult_female)\n",
    "FPR_adult_female = clf.FPR\n",
    "FNR_adult_female = clf.FNR\n",
    "\n",
    "clf.test(X_test_senior_male, y_test_senior_male)\n",
    "FPR_senior_male = clf.FPR\n",
    "FNR_senior_male = clf.FNR\n",
    "\n",
    "clf.test(X_test_senior_female, y_test_senior_female)\n",
    "FPR_senior_female = clf.FPR\n",
    "FNR_senior_female = clf.FNR\n",
    "\n",
    "clf.test(X_test_male, y_test_male)\n",
    "FPR_male = clf.FPR\n",
    "FNR_male = clf.FNR\n",
    "\n",
    "clf.test(X_test_female, y_test_female)\n",
    "FPR_female = clf.FPR\n",
    "FNR_female = clf.FNR\n",
    "\n",
    "clf.test(X_test_student, y_test_student)\n",
    "FPR_student = clf.FPR\n",
    "FNR_student = clf.FNR\n",
    "\n",
    "clf.test(X_test_young, y_test_young)\n",
    "FPR_young = clf.FPR\n",
    "FNR_young = clf.FNR\n",
    "\n",
    "clf.test(X_test_adult, y_test_adult)\n",
    "FPR_adult = clf.FPR\n",
    "FNR_adult = clf.FNR\n",
    "\n",
    "clf.test(X_test_senior, y_test_senior)\n",
    "FPR_senior = clf.FNR\n",
    "FNR_senior = clf.FNR"
   ]
  },
  {
   "cell_type": "markdown",
   "metadata": {},
   "source": [
    "### Summary"
   ]
  },
  {
   "cell_type": "markdown",
   "metadata": {},
   "source": [
    "##### False Positive Rate"
   ]
  },
  {
   "cell_type": "code",
   "execution_count": 34,
   "metadata": {
    "scrolled": true
   },
   "outputs": [
    {
     "data": {
      "text/html": [
       "<style  type=\"text/css\" >\n",
       "#T_b4c3db91_a88b_11eb_a31c_2816a8727fd4row0_col0{\n",
       "            background-color:  grey;\n",
       "             color:  white;\n",
       "        }</style><table id=\"T_b4c3db91_a88b_11eb_a31c_2816a8727fd4\" ><thead>    <tr>        <th class=\"blank level0\" ></th>        <th class=\"col_heading level0 col0\" >Original</th>        <th class=\"col_heading level0 col1\" >Student</th>        <th class=\"col_heading level0 col2\" >Young</th>        <th class=\"col_heading level0 col3\" >Adult</th>        <th class=\"col_heading level0 col4\" >Senior</th>    </tr></thead><tbody>\n",
       "                <tr>\n",
       "                        <th id=\"T_b4c3db91_a88b_11eb_a31c_2816a8727fd4level0_row0\" class=\"row_heading level0 row0\" >Original</th>\n",
       "                        <td id=\"T_b4c3db91_a88b_11eb_a31c_2816a8727fd4row0_col0\" class=\"data row0 col0\" >0.160000</td>\n",
       "                        <td id=\"T_b4c3db91_a88b_11eb_a31c_2816a8727fd4row0_col1\" class=\"data row0 col1\" >0.098039</td>\n",
       "                        <td id=\"T_b4c3db91_a88b_11eb_a31c_2816a8727fd4row0_col2\" class=\"data row0 col2\" >0.170213</td>\n",
       "                        <td id=\"T_b4c3db91_a88b_11eb_a31c_2816a8727fd4row0_col3\" class=\"data row0 col3\" >0.163043</td>\n",
       "                        <td id=\"T_b4c3db91_a88b_11eb_a31c_2816a8727fd4row0_col4\" class=\"data row0 col4\" >0.076923</td>\n",
       "            </tr>\n",
       "            <tr>\n",
       "                        <th id=\"T_b4c3db91_a88b_11eb_a31c_2816a8727fd4level0_row1\" class=\"row_heading level0 row1\" >Male</th>\n",
       "                        <td id=\"T_b4c3db91_a88b_11eb_a31c_2816a8727fd4row1_col0\" class=\"data row1 col0\" >0.175325</td>\n",
       "                        <td id=\"T_b4c3db91_a88b_11eb_a31c_2816a8727fd4row1_col1\" class=\"data row1 col1\" >0.043478</td>\n",
       "                        <td id=\"T_b4c3db91_a88b_11eb_a31c_2816a8727fd4row1_col2\" class=\"data row1 col2\" >0.119403</td>\n",
       "                        <td id=\"T_b4c3db91_a88b_11eb_a31c_2816a8727fd4row1_col3\" class=\"data row1 col3\" >0.192308</td>\n",
       "                        <td id=\"T_b4c3db91_a88b_11eb_a31c_2816a8727fd4row1_col4\" class=\"data row1 col4\" >0.444444</td>\n",
       "            </tr>\n",
       "            <tr>\n",
       "                        <th id=\"T_b4c3db91_a88b_11eb_a31c_2816a8727fd4level0_row2\" class=\"row_heading level0 row2\" >Female</th>\n",
       "                        <td id=\"T_b4c3db91_a88b_11eb_a31c_2816a8727fd4row2_col0\" class=\"data row2 col0\" >0.164384</td>\n",
       "                        <td id=\"T_b4c3db91_a88b_11eb_a31c_2816a8727fd4row2_col1\" class=\"data row2 col1\" >0.142857</td>\n",
       "                        <td id=\"T_b4c3db91_a88b_11eb_a31c_2816a8727fd4row2_col2\" class=\"data row2 col2\" >0.296296</td>\n",
       "                        <td id=\"T_b4c3db91_a88b_11eb_a31c_2816a8727fd4row2_col3\" class=\"data row2 col3\" >0.000000</td>\n",
       "                        <td id=\"T_b4c3db91_a88b_11eb_a31c_2816a8727fd4row2_col4\" class=\"data row2 col4\" >0.000000</td>\n",
       "            </tr>\n",
       "    </tbody></table>"
      ],
      "text/plain": [
       "<pandas.io.formats.style.Styler at 0x2303f07c430>"
      ]
     },
     "execution_count": 34,
     "metadata": {},
     "output_type": "execute_result"
    }
   ],
   "source": [
    "df_sep_FPR = pd.DataFrame(data=[[FPR_orig, FPR_student, FPR_young, FPR_adult, FPR_senior],\n",
    "                               [FPR_male, FPR_student_male, FPR_young_male, FPR_adult_male, FPR_senior_male],\n",
    "                               [FPR_female, FPR_student_female, FPR_young_female, FPR_adult_female, FPR_senior_female]], \n",
    "                         columns=['Original', 'Student', 'Young', 'Adult', 'Senior'], index=['Original', 'Male', 'Female'])\n",
    "\n",
    "df_sep_FPR.style.applymap(lambda x: 'background-color: grey; color: white' if (x == 0.16) else '')"
   ]
  },
  {
   "cell_type": "markdown",
   "metadata": {},
   "source": [
    "#### Discussion\n",
    "\n",
    "##### Age -->\n",
    "\n",
    "    For males, FP rates increase with age, with seniors having an extremely high FP rate.\n",
    "    For females, young people have a higher FP rate than students, but adults and seniors have a FP rate of 0.\n",
    "\n",
    "##### Gender -->\n",
    "\n",
    "    For students and young people, females have a higher FP rate than males, while the opposite is true for adults \n",
    "    and seniors."
   ]
  },
  {
   "cell_type": "markdown",
   "metadata": {},
   "source": [
    "##### False Negative Rates"
   ]
  },
  {
   "cell_type": "code",
   "execution_count": 35,
   "metadata": {
    "scrolled": true
   },
   "outputs": [
    {
     "data": {
      "text/html": [
       "<style  type=\"text/css\" >\n",
       "#T_b67b8754_a88b_11eb_9802_2816a8727fd4row0_col0{\n",
       "            background-color:  grey;\n",
       "             color:  white;\n",
       "        }</style><table id=\"T_b67b8754_a88b_11eb_9802_2816a8727fd4\" ><thead>    <tr>        <th class=\"blank level0\" ></th>        <th class=\"col_heading level0 col0\" >Original</th>        <th class=\"col_heading level0 col1\" >Student</th>        <th class=\"col_heading level0 col2\" >Young</th>        <th class=\"col_heading level0 col3\" >Adult</th>        <th class=\"col_heading level0 col4\" >Senior</th>    </tr></thead><tbody>\n",
       "                <tr>\n",
       "                        <th id=\"T_b67b8754_a88b_11eb_9802_2816a8727fd4level0_row0\" class=\"row_heading level0 row0\" >Original</th>\n",
       "                        <td id=\"T_b67b8754_a88b_11eb_9802_2816a8727fd4row0_col0\" class=\"data row0 col0\" >0.096000</td>\n",
       "                        <td id=\"T_b67b8754_a88b_11eb_9802_2816a8727fd4row0_col1\" class=\"data row0 col1\" >0.196078</td>\n",
       "                        <td id=\"T_b67b8754_a88b_11eb_9802_2816a8727fd4row0_col2\" class=\"data row0 col2\" >0.053191</td>\n",
       "                        <td id=\"T_b67b8754_a88b_11eb_9802_2816a8727fd4row0_col3\" class=\"data row0 col3\" >0.086957</td>\n",
       "                        <td id=\"T_b67b8754_a88b_11eb_9802_2816a8727fd4row0_col4\" class=\"data row0 col4\" >0.076923</td>\n",
       "            </tr>\n",
       "            <tr>\n",
       "                        <th id=\"T_b67b8754_a88b_11eb_9802_2816a8727fd4level0_row1\" class=\"row_heading level0 row1\" >Male</th>\n",
       "                        <td id=\"T_b67b8754_a88b_11eb_9802_2816a8727fd4row1_col0\" class=\"data row1 col0\" >0.058442</td>\n",
       "                        <td id=\"T_b67b8754_a88b_11eb_9802_2816a8727fd4row1_col1\" class=\"data row1 col1\" >0.304348</td>\n",
       "                        <td id=\"T_b67b8754_a88b_11eb_9802_2816a8727fd4row1_col2\" class=\"data row1 col2\" >0.044776</td>\n",
       "                        <td id=\"T_b67b8754_a88b_11eb_9802_2816a8727fd4row1_col3\" class=\"data row1 col3\" >0.076923</td>\n",
       "                        <td id=\"T_b67b8754_a88b_11eb_9802_2816a8727fd4row1_col4\" class=\"data row1 col4\" >0.000000</td>\n",
       "            </tr>\n",
       "            <tr>\n",
       "                        <th id=\"T_b67b8754_a88b_11eb_9802_2816a8727fd4level0_row2\" class=\"row_heading level0 row2\" >Female</th>\n",
       "                        <td id=\"T_b67b8754_a88b_11eb_9802_2816a8727fd4row2_col0\" class=\"data row2 col0\" >0.109589</td>\n",
       "                        <td id=\"T_b67b8754_a88b_11eb_9802_2816a8727fd4row2_col1\" class=\"data row2 col1\" >0.107143</td>\n",
       "                        <td id=\"T_b67b8754_a88b_11eb_9802_2816a8727fd4row2_col2\" class=\"data row2 col2\" >0.074074</td>\n",
       "                        <td id=\"T_b67b8754_a88b_11eb_9802_2816a8727fd4row2_col3\" class=\"data row2 col3\" >0.142857</td>\n",
       "                        <td id=\"T_b67b8754_a88b_11eb_9802_2816a8727fd4row2_col4\" class=\"data row2 col4\" >0.250000</td>\n",
       "            </tr>\n",
       "    </tbody></table>"
      ],
      "text/plain": [
       "<pandas.io.formats.style.Styler at 0x2303ef661c0>"
      ]
     },
     "execution_count": 35,
     "metadata": {},
     "output_type": "execute_result"
    }
   ],
   "source": [
    "df_sep_FNR = pd.DataFrame(data=[[FNR_orig, FNR_student, FNR_young, FNR_adult, FNR_senior],\n",
    "                               [FNR_male, FNR_student_male, FNR_young_male, FNR_adult_male, FNR_senior_male],\n",
    "                               [FNR_female, FNR_student_female, FNR_young_female, FNR_adult_female, FNR_senior_female]], \n",
    "                         columns=['Original', 'Student', 'Young', 'Adult', 'Senior'], index=['Original', 'Male', 'Female'])\n",
    "\n",
    "df_sep_FNR.style.applymap(lambda x: 'background-color: grey; color: white' if (x == 0.096) else '')"
   ]
  },
  {
   "cell_type": "markdown",
   "metadata": {},
   "source": [
    "#### Discussion\n",
    "\n",
    "##### Age -->\n",
    "\n",
    "    For males, FN rates are highest for students, followed by adults, young people and seniors.\n",
    "    For females, FN rates are highest for seniors, followed by adults, students and young people.\n",
    "    \n",
    "##### Gender -->\n",
    "\n",
    "    For students, males have a higher FN rate than females, while the opposite is true for young people,\n",
    "    adults and seniors.\n",
    "    "
   ]
  },
  {
   "cell_type": "markdown",
   "metadata": {},
   "source": [
    "As in previous sections, the differences in model outputs are a sign of fairness issues."
   ]
  },
  {
   "cell_type": "markdown",
   "metadata": {},
   "source": [
    "## Task 3: Improving Model Fairness"
   ]
  },
  {
   "cell_type": "markdown",
   "metadata": {},
   "source": [
    "We shall focus on the 'gender' attribute in this section. To set a baseline, we shall redraw the tables from the previous task, though only for 'gender'. \n",
    "\n",
    "Note: In the following sections, the original model will be re-trained separately to improve each of the 3 fairness properties independently."
   ]
  },
  {
   "cell_type": "code",
   "execution_count": 36,
   "metadata": {},
   "outputs": [
    {
     "data": {
      "text/html": [
       "<style  type=\"text/css\" >\n",
       "#T_1fdc5d8e_a88f_11eb_b0d5_2816a8727fd4row1_col0,#T_1fdc5d8e_a88f_11eb_b0d5_2816a8727fd4row1_col1,#T_1fdc5d8e_a88f_11eb_b0d5_2816a8727fd4row1_col2,#T_1fdc5d8e_a88f_11eb_b0d5_2816a8727fd4row1_col3{\n",
       "            background-color:  grey;\n",
       "             color:  white;\n",
       "        }</style><table id=\"T_1fdc5d8e_a88f_11eb_b0d5_2816a8727fd4\" ><thead>    <tr>        <th class=\"blank level0\" ></th>        <th class=\"col_heading level0 col0\" >Accuracy</th>        <th class=\"col_heading level0 col1\" >Positives Rate</th>        <th class=\"col_heading level0 col2\" >False Positive Rate</th>        <th class=\"col_heading level0 col3\" >False Negative Rate</th>    </tr></thead><tbody>\n",
       "                <tr>\n",
       "                        <th id=\"T_1fdc5d8e_a88f_11eb_b0d5_2816a8727fd4level0_row0\" class=\"row_heading level0 row0\" >Male</th>\n",
       "                        <td id=\"T_1fdc5d8e_a88f_11eb_b0d5_2816a8727fd4row0_col0\" class=\"data row0 col0\" >0.748000</td>\n",
       "                        <td id=\"T_1fdc5d8e_a88f_11eb_b0d5_2816a8727fd4row0_col1\" class=\"data row0 col1\" >0.824675</td>\n",
       "                        <td id=\"T_1fdc5d8e_a88f_11eb_b0d5_2816a8727fd4row0_col2\" class=\"data row0 col2\" >0.175325</td>\n",
       "                        <td id=\"T_1fdc5d8e_a88f_11eb_b0d5_2816a8727fd4row0_col3\" class=\"data row0 col3\" >0.058442</td>\n",
       "            </tr>\n",
       "            <tr>\n",
       "                        <th id=\"T_1fdc5d8e_a88f_11eb_b0d5_2816a8727fd4level0_row1\" class=\"row_heading level0 row1\" >Original</th>\n",
       "                        <td id=\"T_1fdc5d8e_a88f_11eb_b0d5_2816a8727fd4row1_col0\" class=\"data row1 col0\" >0.744000</td>\n",
       "                        <td id=\"T_1fdc5d8e_a88f_11eb_b0d5_2816a8727fd4row1_col1\" class=\"data row1 col1\" >0.776000</td>\n",
       "                        <td id=\"T_1fdc5d8e_a88f_11eb_b0d5_2816a8727fd4row1_col2\" class=\"data row1 col2\" >0.160000</td>\n",
       "                        <td id=\"T_1fdc5d8e_a88f_11eb_b0d5_2816a8727fd4row1_col3\" class=\"data row1 col3\" >0.096000</td>\n",
       "            </tr>\n",
       "            <tr>\n",
       "                        <th id=\"T_1fdc5d8e_a88f_11eb_b0d5_2816a8727fd4level0_row2\" class=\"row_heading level0 row2\" >Female</th>\n",
       "                        <td id=\"T_1fdc5d8e_a88f_11eb_b0d5_2816a8727fd4row2_col0\" class=\"data row2 col0\" >0.732000</td>\n",
       "                        <td id=\"T_1fdc5d8e_a88f_11eb_b0d5_2816a8727fd4row2_col1\" class=\"data row2 col1\" >0.753425</td>\n",
       "                        <td id=\"T_1fdc5d8e_a88f_11eb_b0d5_2816a8727fd4row2_col2\" class=\"data row2 col2\" >0.164384</td>\n",
       "                        <td id=\"T_1fdc5d8e_a88f_11eb_b0d5_2816a8727fd4row2_col3\" class=\"data row2 col3\" >0.109589</td>\n",
       "            </tr>\n",
       "    </tbody></table>"
      ],
      "text/plain": [
       "<pandas.io.formats.style.Styler at 0x2303f0b6f10>"
      ]
     },
     "execution_count": 36,
     "metadata": {},
     "output_type": "execute_result"
    }
   ],
   "source": [
    "df_baseline = pd.DataFrame(data=[[acc_male, positives_male, FPR_male, FNR_male], \n",
    "                                  [acc_orig, positives_orig, FPR_orig, FNR_orig], \n",
    "                                  [acc_female, positives_female, FPR_female, FNR_female]], \n",
    "                        index=['Male', 'Original', 'Female'], columns=['Accuracy', 'Positives Rate', 'False Positive Rate', 'False Negative Rate'])\n",
    "\n",
    "df_baseline.style.applymap(lambda x: 'background-color: grey; color: white' if (x in [0.744000, 0.776000, 0.160000, 0.096000]) else '')"
   ]
  },
  {
   "cell_type": "markdown",
   "metadata": {},
   "source": [
    "### Improving Anti-Classification"
   ]
  },
  {
   "cell_type": "markdown",
   "metadata": {},
   "source": [
    "To improve anti-classification, we shall drop the 'gender' attribute from our dataset and re-train the model."
   ]
  },
  {
   "cell_type": "code",
   "execution_count": 37,
   "metadata": {},
   "outputs": [],
   "source": [
    "X_train_no_gender = []\n",
    "for i in range(X_train.shape[0]):\n",
    "    X_train_no_gender.append(np.concatenate((X_train[i][:10], X_train[i][11:])))\n",
    "    \n",
    "X_test_no_gender = []\n",
    "for i in range(X_test.shape[0]):\n",
    "    X_test_no_gender.append(np.concatenate((X_train[i][:10], X_train[i][11:])))"
   ]
  },
  {
   "cell_type": "code",
   "execution_count": 38,
   "metadata": {},
   "outputs": [
    {
     "name": "stderr",
     "output_type": "stream",
     "text": [
      "C:\\Users\\Null\\anaconda3\\lib\\site-packages\\sklearn\\neural_network\\_multilayer_perceptron.py:471: ConvergenceWarning: lbfgs failed to converge (status=1):\n",
      "STOP: TOTAL NO. of ITERATIONS REACHED LIMIT.\n",
      "\n",
      "Increase the number of iterations (max_iter) or scale the data as shown in:\n",
      "    https://scikit-learn.org/stable/modules/preprocessing.html\n",
      "  self.n_iter_ = _check_optimize_result(\"lbfgs\", opt_res, self.max_iter)\n"
     ]
    }
   ],
   "source": [
    "clf_no_gender = Classifier(alpha=2e-6, layers=100, iters=200)\n",
    "clf_no_gender.train(X_train_no_gender, y_train)\n",
    "clf_no_gender.test(X_test_no_gender, y_test)"
   ]
  },
  {
   "cell_type": "code",
   "execution_count": 39,
   "metadata": {
    "scrolled": true
   },
   "outputs": [
    {
     "name": "stdout",
     "output_type": "stream",
     "text": [
      "Accuracy 0.632\n",
      "Positives Rate 0.792\n",
      "FPR 0.224\n",
      "FNR 0.144\n",
      "\n"
     ]
    }
   ],
   "source": [
    "acc_no_gender = clf_no_gender.acc\n",
    "positives_no_gender = clf_no_gender.positives_rate\n",
    "FPR_no_gender = clf_no_gender.FPR\n",
    "FNR_no_gender = clf_no_gender.FNR\n",
    "clf_no_gender.stats()"
   ]
  },
  {
   "cell_type": "markdown",
   "metadata": {},
   "source": [
    "#### Discussion\n",
    "\n",
    "Since the gender attribute has been dropped from the dataset, we can certainly gaurantee that there is no fairness issue w.r.t. gender since the model does not have access to it. On the other hand, by achieving this fairness, our model's highest accuracy is down to 63.2%. This means that achieving fairness of anti-classification came at the cost of a 11.2% reduction in accuracy. "
   ]
  },
  {
   "cell_type": "markdown",
   "metadata": {},
   "source": [
    "### Improving Independence"
   ]
  },
  {
   "cell_type": "markdown",
   "metadata": {},
   "source": [
    "To improve independence, we shall modify the way our model makes predictions by using different, user-defined thresholds for each gender. The updated classifier is given below."
   ]
  },
  {
   "cell_type": "code",
   "execution_count": 40,
   "metadata": {},
   "outputs": [],
   "source": [
    "class Classifier_W_Thresholds:\n",
    "    def __init__(self, alpha=5e-6, layers=(100, 100), iters=860):\n",
    "        self.clf = MLPClassifier(solver='lbfgs', alpha=alpha, hidden_layer_sizes=layers, random_state=1, max_iter=iters)\n",
    "        self.acc = None\n",
    "        self.confusion = None\n",
    "        self.positives_rate = None\n",
    "        self.FPR = None\n",
    "        self.FNR = None\n",
    "\n",
    "    def train(self, X_train, y_train):\n",
    "        self.clf.fit(X_train, y_train)\n",
    "        \n",
    "    def test(self, X_test, y_test, gender_idx, thresh_male, thresh_female):\n",
    "        y_pred = self.predict(X_test, gender_idx, thresh_male, thresh_female)\n",
    "        \n",
    "        self.acc = accuracy_score(y_test,y_pred)\n",
    "        self.confusion = confusion_matrix(y_test, y_pred)\n",
    "        self.positives_rate = (self.confusion[0][1] + self.confusion[1][1]) / len(y_pred)\n",
    "        self.FPR = self.confusion[0][1] / len(y_pred)\n",
    "        self.FNR = self.confusion[1][0] / len(y_pred)    \n",
    "        \n",
    "    def predict(self, X_test, gender_idx, thresh_male, thresh_female):\n",
    "        y_pred_prob = self.clf.predict_proba(X_test)[:,1]\n",
    "        y_pred = [] \n",
    "        \n",
    "        for i in range(X_test.shape[0]):\n",
    "            if X_test[i][gender_idx] == 1: # Male\n",
    "                y_pred.append(1 if y_pred_prob[i] > thresh_male else 0)\n",
    "            else: # Female\n",
    "                y_pred.append(1 if y_pred_prob[i] > thresh_female else 0)\n",
    "                \n",
    "        return y_pred\n",
    "        \n",
    "    def stats(self):\n",
    "        print('Accuracy', self.acc)\n",
    "        print('Positives Rate', self.positives_rate)\n",
    "        print('FPR', self.FPR)\n",
    "        print('FNR', self.FNR)\n",
    "        print()\n",
    "        \n",
    "    def print_confusion(self):\n",
    "        print('Confusion Matrix -->\\n')\n",
    "        print(self.confusion)\n",
    "        print()\n",
    "        \n",
    "    def print_report(self, X_test, y_test, gender_idx, thresh_male, thresh_female):\n",
    "        y_pred = self.predict(X_test, gender_idx, thresh_male, thresh_female)\n",
    "        report = classification_report(y_test, y_pred)\n",
    "\n",
    "        print('Precision/Recall Report -->\\n')\n",
    "        print(report)\n",
    "        print()\n"
   ]
  },
  {
   "cell_type": "markdown",
   "metadata": {},
   "source": [
    "To see if our code is correct, we first set both thresholds to 0.5 (which is the typical value) and compare the model accuracy against the original model."
   ]
  },
  {
   "cell_type": "code",
   "execution_count": 41,
   "metadata": {
    "scrolled": true
   },
   "outputs": [
    {
     "name": "stderr",
     "output_type": "stream",
     "text": [
      "C:\\Users\\Null\\anaconda3\\lib\\site-packages\\sklearn\\neural_network\\_multilayer_perceptron.py:471: ConvergenceWarning: lbfgs failed to converge (status=1):\n",
      "STOP: TOTAL NO. of ITERATIONS REACHED LIMIT.\n",
      "\n",
      "Increase the number of iterations (max_iter) or scale the data as shown in:\n",
      "    https://scikit-learn.org/stable/modules/preprocessing.html\n",
      "  self.n_iter_ = _check_optimize_result(\"lbfgs\", opt_res, self.max_iter)\n"
     ]
    }
   ],
   "source": [
    "clf_indep = Classifier_W_Thresholds(alpha=2e-6, layers=100, iters=300)\n",
    "clf_indep.train(X_train, y_train)\n",
    "clf_indep.test(X_test, y_test, 10, 0.5, 0.5)"
   ]
  },
  {
   "cell_type": "code",
   "execution_count": 42,
   "metadata": {
    "scrolled": true
   },
   "outputs": [
    {
     "name": "stdout",
     "output_type": "stream",
     "text": [
      "Accuracy 0.744\n",
      "Positives Rate 0.776\n",
      "FPR 0.16\n",
      "FNR 0.096\n",
      "\n"
     ]
    }
   ],
   "source": [
    "acc_indep = clf_indep.acc\n",
    "positives_indep = clf_indep.positives_rate\n",
    "FPR_indep = clf_indep.FPR\n",
    "FNR_indep = clf_indep.FNR\n",
    "clf_indep.stats()"
   ]
  },
  {
   "cell_type": "code",
   "execution_count": 43,
   "metadata": {},
   "outputs": [
    {
     "data": {
      "text/plain": [
       "True"
      ]
     },
     "execution_count": 43,
     "metadata": {},
     "output_type": "execute_result"
    }
   ],
   "source": [
    "acc_indep == acc_orig"
   ]
  },
  {
   "cell_type": "markdown",
   "metadata": {},
   "source": [
    "As seen above, the accuracy is the same, so our code is correct. Now let's find the best threshold values for males and females to get the least difference in Positives rate."
   ]
  },
  {
   "cell_type": "code",
   "execution_count": 44,
   "metadata": {},
   "outputs": [],
   "source": [
    "X_test_male = np.array(X_test_male)\n",
    "y_test_male = np.array(y_test_male)\n",
    "X_test_female = np.array(X_test_female)\n",
    "y_test_female = np.array(y_test_female)"
   ]
  },
  {
   "cell_type": "code",
   "execution_count": 45,
   "metadata": {},
   "outputs": [],
   "source": [
    "def print_positives(clf_indep, thresh_male, thresh_female):\n",
    "    clf_indep.test(X_test_male, y_test_male, 10, thresh_male, thresh_female)\n",
    "    positives_male_indep = clf_indep.positives_rate\n",
    "    acc_male_indep = clf_indep.acc    \n",
    "    clf_indep.test(X_test_female, y_test_female, 10, thresh_male, thresh_female)\n",
    "    positives_female_indep = clf_indep.positives_rate\n",
    "    acc_female_indep = clf_indep.acc\n",
    "    return (positives_male_indep, acc_male_indep), (positives_female_indep, acc_female_indep)"
   ]
  },
  {
   "cell_type": "code",
   "execution_count": 46,
   "metadata": {},
   "outputs": [
    {
     "data": {
      "text/plain": [
       "((0.8246753246753247, 0.7662337662337663),\n",
       " (0.7534246575342466, 0.726027397260274))"
      ]
     },
     "execution_count": 46,
     "metadata": {},
     "output_type": "execute_result"
    }
   ],
   "source": [
    "print_positives(clf_indep, 0.5, 0.5)"
   ]
  },
  {
   "cell_type": "markdown",
   "metadata": {},
   "source": [
    "The Positives rate for females is lower than males. Accordingly, we should lower the threshold for females."
   ]
  },
  {
   "cell_type": "code",
   "execution_count": 47,
   "metadata": {
    "scrolled": true
   },
   "outputs": [
    {
     "data": {
      "text/plain": [
       "((0.8246753246753247, 0.7662337662337663),\n",
       " (0.821917808219178, 0.7671232876712328))"
      ]
     },
     "execution_count": 47,
     "metadata": {},
     "output_type": "execute_result"
    }
   ],
   "source": [
    "print_positives(clf_indep, 0.5, 0.367)"
   ]
  },
  {
   "cell_type": "markdown",
   "metadata": {},
   "source": [
    "Keeping the threshold for males constant (at 0.5), we obtain roughly equal positive rates for both males and females when using a threshold of 0.367 for females (>0.367 = good credit). Additionally, the accuracies for both males and females are also very close."
   ]
  },
  {
   "cell_type": "code",
   "execution_count": 48,
   "metadata": {
    "scrolled": true
   },
   "outputs": [
    {
     "data": {
      "text/plain": [
       "((0.7597402597402597, 0.7662337662337663),\n",
       " (0.7534246575342466, 0.726027397260274))"
      ]
     },
     "execution_count": 48,
     "metadata": {},
     "output_type": "execute_result"
    }
   ],
   "source": [
    "print_positives(clf_indep, 0.61, 0.5)"
   ]
  },
  {
   "cell_type": "markdown",
   "metadata": {},
   "source": [
    "Going the other way (keeping threshold for females constant at 0.5), we obtain roughly equal positive rates for both males and females when using a threshold of 0.61 for males (>0.61 = good credit). Here though, the difference in accuracies betwee males and females is ~4%."
   ]
  },
  {
   "cell_type": "markdown",
   "metadata": {},
   "source": [
    "#### Summary\n",
    "\n",
    "Accordingly, we started off with a positive rate for males = 0.8247 and for females = 0.7534. This is a difference of 7.13%.\n",
    "\n",
    "When we used thresholds of 0.5 and 0.367 for males and females, respectively, we now have a positive rate of 0.8247 for males and 0.8219 for females. the difference now is ~0.3%. This is a lot fairer than the original model (in terms of independence).\n",
    "\n",
    "Now to compare the accuracies. The original male set and female set accuracies were 0.7662 and 0.7260, a difference of 4.02%. After modifying thresholds, we have accuracies of 0.7662 and 0.7671, a difference of 0.09%. The accuracies are also a lot closer for the two genders than before. Additionally, there is ~2% increase in average accuracy from the original model (74.61%) to the updated model (76.665%). This means our new model is fairer as well as more accurate."
   ]
  },
  {
   "cell_type": "markdown",
   "metadata": {},
   "source": [
    "### Improving Separation"
   ]
  },
  {
   "cell_type": "markdown",
   "metadata": {},
   "source": [
    "To improve separation, we repeat the exact process as for independence, except we look at FP and FN rates instead of positives rate."
   ]
  },
  {
   "cell_type": "code",
   "execution_count": 49,
   "metadata": {},
   "outputs": [],
   "source": [
    "def print_FPR_FNR(clf_indep, thresh_male, thresh_female):\n",
    "    clf_indep.test(X_test_male, y_test_male, 10, thresh_male, thresh_female)\n",
    "    FPR_male_indep = clf_indep.FPR\n",
    "    FNR_male_indep = clf_indep.FNR\n",
    "    acc_male_indep = clf_indep.acc    \n",
    "    clf_indep.test(X_test_female, y_test_female, 10, thresh_male, thresh_female)\n",
    "    FPR_female_indep = clf_indep.FPR\n",
    "    FNR_female_indep = clf_indep.FNR\n",
    "    acc_female_indep = clf_indep.acc\n",
    "    return (FPR_male_indep, FNR_male_indep, acc_male_indep), (FPR_female_indep, FNR_female_indep, acc_female_indep)"
   ]
  },
  {
   "cell_type": "code",
   "execution_count": 50,
   "metadata": {},
   "outputs": [
    {
     "data": {
      "text/plain": [
       "((0.17532467532467533, 0.05844155844155844, 0.7662337662337663),\n",
       " (0.1643835616438356, 0.1095890410958904, 0.726027397260274))"
      ]
     },
     "execution_count": 50,
     "metadata": {},
     "output_type": "execute_result"
    }
   ],
   "source": [
    "print_FPR_FNR(clf_indep, 0.5, 0.5)"
   ]
  },
  {
   "cell_type": "markdown",
   "metadata": {},
   "source": [
    "Now let's modify the thresholds."
   ]
  },
  {
   "cell_type": "code",
   "execution_count": 51,
   "metadata": {},
   "outputs": [
    {
     "data": {
      "text/plain": [
       "((0.18181818181818182, 0.05194805194805195, 0.7662337662337663),\n",
       " (0.1780821917808219, 0.0547945205479452, 0.7671232876712328))"
      ]
     },
     "execution_count": 51,
     "metadata": {},
     "output_type": "execute_result"
    }
   ],
   "source": [
    "print_FPR_FNR(clf_indep, 0.492, 0.37)"
   ]
  },
  {
   "cell_type": "markdown",
   "metadata": {},
   "source": [
    "#### Discussion\n",
    "\n",
    "In the original model, there is a difference of ~1% between FP rates, ~5% between FN rates and ~4% between accuracies. After tweaking the thresholds to get as close values as possible, we now have a difference of ~0.37% between FP rates, ~0.28% between FN rates and ~0.089% between accuracies, which is a lot better.\n",
    "\n",
    "As with independence, the average accuracy increased around 2% from the original model (74.61%) to the updated one (76.67%). The FP rates for both genders are slightly higher (~1%) than in the original model but, on the upside, the FN rates have gone down considerably for females. "
   ]
  }
 ],
 "metadata": {
  "kernelspec": {
   "display_name": "Python 3",
   "language": "python",
   "name": "python3"
  },
  "language_info": {
   "codemirror_mode": {
    "name": "ipython",
    "version": 3
   },
   "file_extension": ".py",
   "mimetype": "text/x-python",
   "name": "python",
   "nbconvert_exporter": "python",
   "pygments_lexer": "ipython3",
   "version": "3.8.5"
  }
 },
 "nbformat": 4,
 "nbformat_minor": 4
}
